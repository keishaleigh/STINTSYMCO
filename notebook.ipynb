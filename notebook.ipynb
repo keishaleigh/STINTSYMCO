{
 "cells": [
  {
   "cell_type": "markdown",
   "metadata": {},
   "source": [
    "# STINTSY Project - \n",
    "\n",
    "### Group 4 (S13)\n",
    "CAPAROS, MIGUEL ANTONIO <br> \n",
    "MARTINEZ, AZELIAH <br>\n",
    "PAREDES, BILL JETHRO <br>\n",
    "VILLANUEVA, KEISHA LEIGH <br>"
   ]
  },
  {
   "cell_type": "markdown",
   "metadata": {},
   "source": [
    "# I. Introduction to the problem and dataset\n",
    "\n",
    "Select one real-world dataset from the list of datasets provided for the project. Each dataset is accompanied with a description file, which also contains detailed description of each feature.\n",
    "\n",
    "The target task (i.e., classification or regression) should be properly stated as well."
   ]
  },
  {
   "cell_type": "markdown",
   "metadata": {},
   "source": [
    "# II. Description of the dataset\n",
    "\n",
    "• State a brief description of the dataset.\n",
    "\n",
    "• Provide a description of the collection process executed to build the dataset. Discuss the\n",
    "implications of the data collection method on the generated conclusions and insights. Note that you may need to look at relevant sources related to the dataset to acquire necessary information for this part of the project.\n",
    "\n",
    "• Describe the structure of the dataset file.\n",
    "- What does each row and column represent?\n",
    "- How many instances are there in the dataset?\n",
    "- How many features are there in the dataset?\n",
    "- If the dataset is composed of different files that you will combine in the succeeding\n",
    "steps, describe the structure and the contents of each file.\n",
    "\n",
    "• Discuss the features in each dataset file. What does each feature represent? All features, even those which are not used for the study, should be described to the reader. The purpose of each feature in the dataset should be clear to the reader of the notebook\n",
    "without having to go through an external link."
   ]
  },
  {
   "cell_type": "markdown",
   "metadata": {},
   "source": [
    "# III. List of requirements\n",
    "\n",
    "List all the Python libraries and modules that you used."
   ]
  },
  {
   "cell_type": "code",
   "execution_count": null,
   "metadata": {
    "vscode": {
     "languageId": "plaintext"
    }
   },
   "outputs": [],
   "source": []
  },
  {
   "cell_type": "markdown",
   "metadata": {},
   "source": [
    "# IV.  Data preprocessing and cleaning\n",
    "\n",
    "Perform necessary steps before using the data. In this section of the notebook, please take note of the following:\n",
    "\n",
    "• If needed, perform preprocessing techniques to transform the data to the appropriate representation. This may include binning, log transformations, conversion to one-hot encoding, normalization, standardization, interpolation, truncation, and feature engineering, among others. There should be a correct and proper justification for the use of each preprocessing technique used in the project.\n",
    "\n",
    "• Make sure that the data is clean, especially features that are used in the project. This may include checking for misrepresentations, checking the data type, dealing with missing data, dealing with duplicate data, and dealing with outliers, among others. There should be a correct and proper justification for the application (or non-application) of each data cleaning method used in the project. Clean only the variables utilized in the study."
   ]
  },
  {
   "cell_type": "markdown",
   "metadata": {},
   "source": [
    "# V. Exploratory data analysis\n",
    "\n",
    "Perform exploratory data analysis comprehensively to gain a good understanding of your dataset. In this section of the notebook, you must present relevant numerical summaries and visualizations. Make sure that each code is accompanied by a brief explanation. The whole process should be supported with verbose textual descriptions of your procedures and findings."
   ]
  },
  {
   "cell_type": "markdown",
   "metadata": {},
   "source": [
    "# VI.  Initial model training\n",
    "\n",
    "Use machine learning models to accomplish your chosen task (i.e., classification or regression) for the dataset. In this section of the notebook, please take note of the following:\n",
    "\n",
    "• The project should train and evaluate at least 3 different kinds of machine learning models. The models should not be multiple variations of the same model, e.g., three neural network models with different number of neurons.\n",
    "\n",
    "• Each model should be appropriate in accomplishing the chosen task for the dataset. There should be a clear and correct justification on the use of each machine learning model.\n",
    "\n",
    "• Make sure that the values of the hyperparameters of each model are mentioned. At the minimum, the optimizer, the learning rate, and the learning rate schedule should be discussed per model.\n",
    "\n",
    "• The report should show that the models are not overfitting nor underfitting."
   ]
  },
  {
   "cell_type": "markdown",
   "metadata": {},
   "source": [
    "# VII.  Error analysis\n",
    "\n",
    "Perform error analysis on the output of all models used in the project. In this section of the notebook, you should:\n",
    "\n",
    "• Report and properly interpret the initial performance of all models using appropriate evaluation metrics.\n",
    "\n",
    "• Identify difficult classes and/or instances. For classification tasks, these are classes and/or instances that are difficult to classify. Hint: You may use confusion matrix for this. For regression tasks, these are instances that produces high error"
   ]
  },
  {
   "cell_type": "markdown",
   "metadata": {},
   "source": [
    "# VIII.  Improving model performance\n",
    "\n",
    "Perform grid search or random search to tune the hyperparameters of each model. You should also tune each model to reduce the error in difficult classes and/or instances. In this section of the notebook, please take note of the following:\n",
    "\n",
    "• Make sure to elaborately explain the method of hyperparameter tuning.\n",
    "\n",
    "• Explicitly mention the different hyperparameters and their range of values. Show the corresponding performance of each configuration.\n",
    "\n",
    "• Report the performance of all models using appropriate evaluation metrics and visualizations.\n",
    "\n",
    "• Properly interpret the result based on relevant evaluation metrics"
   ]
  },
  {
   "cell_type": "markdown",
   "metadata": {},
   "source": [
    "# IX. Model performance summary\n",
    "\n",
    "Present a summary of all model configurations. In this section of the notebook, do the following:\n",
    "\n",
    "• Discuss each algorithm and the best set of values for its hyperparameters. Identify the best model configuration and discuss its advantage over other configurations.\n",
    "\n",
    "• Discuss how tuning each model helped in reducing its error in difficult classes and/or instances."
   ]
  },
  {
   "cell_type": "markdown",
   "metadata": {},
   "source": [
    "# X. Insights and conclusions\n",
    "\n",
    "Clearly state your insights and conclusions from training a model on the data. Why did some models produce better results? Summarize your conclusions to explain the performance of the models. Discuss recommendations to improve the performance of the model."
   ]
  },
  {
   "cell_type": "markdown",
   "metadata": {},
   "source": [
    "# XI. References\n",
    "\n",
    "Cite relevant references that you used in your project. All references must be cited, including:\n",
    "\n",
    "• Scholarly Articles – Cite in APA format and put a description of how you used it for your work.\n",
    "\n",
    "• Online references, blogs, articles that helped you come up with your project – Put the website, blog, or article title, link, and how you incorporated it into your work.\n",
    "\n",
    "• Artificial Intelligence (AI) Tools – Put the model used (e.g., ChatGPT, Gemini), the complete transcript of your conversations with the model (including your prompts and its responses), and a description of how you used it for your work"
   ]
  }
 ],
 "metadata": {
  "language_info": {
   "name": "python"
  }
 },
 "nbformat": 4,
 "nbformat_minor": 2
}
